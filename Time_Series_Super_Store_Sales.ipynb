{
 "cells": [
  {
   "cell_type": "markdown",
   "id": "56c973bf",
   "metadata": {},
   "source": [
    "### Super Store Dataset"
   ]
  },
  {
   "cell_type": "code",
   "execution_count": null,
   "id": "9706bc3f",
   "metadata": {},
   "outputs": [],
   "source": [
    "# Importing the required libraries\n",
    "\n",
    "import pandas as pd\n",
    "import numpy as np\n",
    "import matplotlib.pyplot as plt\n",
    "import seaborn as sns\n",
    "%matplotlib inline\n"
   ]
  },
  {
   "cell_type": "code",
   "execution_count": null,
   "id": "af7bddc2",
   "metadata": {},
   "outputs": [],
   "source": [
    "# Import the dataset\n",
    "encoding = 'unicode_escape'\n",
    "storedataset = pd.read_csv('/Users/priyankac/Downloads/Time Series/Super Store.csv', encoding = 'unicode_escape')"
   ]
  },
  {
   "cell_type": "code",
   "execution_count": null,
   "id": "6069eb45",
   "metadata": {},
   "outputs": [],
   "source": [
    "storedataset.head()"
   ]
  },
  {
   "cell_type": "code",
   "execution_count": null,
   "id": "3eba8aed",
   "metadata": {},
   "outputs": [],
   "source": [
    "# Checking the number of rows and columns in the dataset\n",
    "storedataset.shape"
   ]
  },
  {
   "cell_type": "code",
   "execution_count": null,
   "id": "f1e7f0f1",
   "metadata": {},
   "outputs": [],
   "source": [
    "# Checking the data types\n",
    "storedataset.info()"
   ]
  },
  {
   "cell_type": "code",
   "execution_count": null,
   "id": "4c716bca",
   "metadata": {},
   "outputs": [],
   "source": [
    "# Order date is an object type here.It needs to be converted to datetime\n",
    "\n",
    "from datetime import datetime\n",
    "storedataset['Order Date'] = pd.to_datetime(storedataset['Order Date'])"
   ]
  },
  {
   "cell_type": "code",
   "execution_count": null,
   "id": "6deb5d17",
   "metadata": {},
   "outputs": [],
   "source": [
    "storedataset.dtypes"
   ]
  },
  {
   "cell_type": "code",
   "execution_count": null,
   "id": "1aa3705d",
   "metadata": {},
   "outputs": [],
   "source": [
    "storedataset['Category'].value_counts()"
   ]
  },
  {
   "cell_type": "code",
   "execution_count": null,
   "id": "11b613e0",
   "metadata": {},
   "outputs": [],
   "source": [
    "# From the category taking only the furniture category,here we have just one category i.e furniture. This code will\n",
    "# help to exract the data if there are multiple categories\n",
    "Furniture = storedataset.loc[storedataset['Category'] == 'Furniture']\n",
    "\n",
    "# Furniture1 = storedataset.loc[storedataset['Sub-Category'] == 'Chairs'] if you want to extract sub category \n",
    "# wise chair data\n"
   ]
  },
  {
   "cell_type": "code",
   "execution_count": null,
   "id": "df088f0e",
   "metadata": {},
   "outputs": [],
   "source": [
    "Furniture.head()"
   ]
  },
  {
   "cell_type": "code",
   "execution_count": null,
   "id": "3d4cbb5c",
   "metadata": {},
   "outputs": [],
   "source": [
    "Furniture.shape"
   ]
  },
  {
   "cell_type": "code",
   "execution_count": null,
   "id": "14f8d8da",
   "metadata": {},
   "outputs": [],
   "source": [
    "print(len(Furniture))"
   ]
  },
  {
   "cell_type": "code",
   "execution_count": null,
   "id": "5d7cc54f",
   "metadata": {},
   "outputs": [],
   "source": [
    "# Checking the minimum and maximum order date for furniture\n",
    "print(Furniture['Order Date'].min())\n",
    "print(Furniture['Order Date'].max())"
   ]
  },
  {
   "cell_type": "code",
   "execution_count": null,
   "id": "4acf0b26",
   "metadata": {},
   "outputs": [],
   "source": [
    "# Check the columns in our Furniture dataframe\n",
    "Furniture.columns"
   ]
  },
  {
   "cell_type": "code",
   "execution_count": null,
   "id": "a84e5118",
   "metadata": {},
   "outputs": [],
   "source": [
    "cols = ['Row ID', 'Order ID',  'Ship Date', 'Ship Mode',\n",
    "       'Customer ID', 'Customer Name', 'Segment', 'Country', 'City', 'State',\n",
    "       'Postal Code', 'Region', 'Product ID', 'Category', 'Sub-Category',\n",
    "       'Product Name', 'Quantity', 'Discount', 'Profit']\n",
    "\n",
    "# Check with the stakeholder what they want to forecast i.e sales or quantity or discount or profit\n",
    "# I want to predict sales forecasting - 'Sales'"
   ]
  },
  {
   "cell_type": "code",
   "execution_count": null,
   "id": "5d366aa4",
   "metadata": {},
   "outputs": [],
   "source": [
    "# Drop all the above cols from Furniture dataset to retain only the 'order date' and 'sales' columns\n",
    "Furniture.drop(cols , axis = 1 ,inplace = True)\n"
   ]
  },
  {
   "cell_type": "code",
   "execution_count": null,
   "id": "9c22be12",
   "metadata": {},
   "outputs": [],
   "source": [
    "Furniture.shape"
   ]
  },
  {
   "cell_type": "code",
   "execution_count": null,
   "id": "f1f2bc3f",
   "metadata": {},
   "outputs": [],
   "source": [
    "# Sort the dataset first\n",
    "Furniture.sort_values('Order Date')"
   ]
  },
  {
   "cell_type": "code",
   "execution_count": null,
   "id": "292874fd",
   "metadata": {},
   "outputs": [],
   "source": [
    "# Grouping the sales according to the date and getting the sum of toatl sales in a day\n",
    "Furniture = Furniture.groupby('Order Date')['Sales'].sum().reset_index()"
   ]
  },
  {
   "cell_type": "code",
   "execution_count": null,
   "id": "a2e530bd",
   "metadata": {},
   "outputs": [],
   "source": [
    "Furniture"
   ]
  },
  {
   "cell_type": "code",
   "execution_count": null,
   "id": "e807dfc0",
   "metadata": {},
   "outputs": [],
   "source": [
    "# Set the 'order date' as index\n",
    "Furniture = Furniture.set_index('Order Date')\n",
    "Furniture.index"
   ]
  },
  {
   "cell_type": "code",
   "execution_count": null,
   "id": "7c66c66d",
   "metadata": {},
   "outputs": [],
   "source": [
    "# Our current datetime data can be tricky to work with, therefore, we will use the averages daily sales value \n",
    "# for that month instead, and we are using the start of each month as the timestamp.\n",
    "\n",
    "y = pd.DataFrame(Furniture['Sales'].resample('MS').mean())"
   ]
  },
  {
   "cell_type": "code",
   "execution_count": null,
   "id": "c063baf7",
   "metadata": {},
   "outputs": [],
   "source": [
    "y['2017':]"
   ]
  },
  {
   "cell_type": "code",
   "execution_count": null,
   "id": "92cec60b",
   "metadata": {},
   "outputs": [],
   "source": [
    "# Check the trend\n",
    "y.plot()"
   ]
  },
  {
   "cell_type": "code",
   "execution_count": null,
   "id": "641e869e",
   "metadata": {},
   "outputs": [],
   "source": [
    "# Check the dataset components by using the Decomposition method\n",
    "from statsmodels.tsa.seasonal import seasonal_decompose\n",
    "\n",
    "decomposition = seasonal_decompose(y['Sales'] , period = 12)\n",
    "decomposition.plot()\n",
    "plt.show()"
   ]
  },
  {
   "cell_type": "code",
   "execution_count": null,
   "id": "0c7e0879",
   "metadata": {},
   "outputs": [],
   "source": [
    "#The plot above clearly shows that the sales of furniture is unstable, along with its obvious seasonality.\n"
   ]
  },
  {
   "cell_type": "code",
   "execution_count": null,
   "id": "20585ec7",
   "metadata": {},
   "outputs": [],
   "source": [
    "# To check whether or data is stationary or not using the Augmented Decay Fuller Test\n",
    "from statsmodels.tsa.stattools import adfuller"
   ]
  },
  {
   "cell_type": "code",
   "execution_count": null,
   "id": "241960b2",
   "metadata": {},
   "outputs": [],
   "source": [
    "adfuller(y['Sales'])"
   ]
  },
  {
   "cell_type": "code",
   "execution_count": null,
   "id": "4b7b7f6a",
   "metadata": {},
   "outputs": [],
   "source": [
    "# Creating a function to explain the above values(remember this function, u can use it always)\n",
    "def adf_check(timeseries):\n",
    "    result = adfuller(timeseries)\n",
    "    print('Augmented Decay Fuller Test : ')\n",
    "    labels = ['ADF Test Statistics', 'p-value' ,'#Lags', 'No of obs' ]\n",
    "    \n",
    "    for a , b in zip(result, labels):\n",
    "        print(b + ' : ' + str(a))\n",
    "        \n",
    "    if result[1] <= 0.05:\n",
    "        print('\\nStrong evidence against null hypothesis and my time series is stationary')\n",
    "    else:\n",
    "        print('\\nWeak evidence against null hypothesis and my time series is non stationary')"
   ]
  },
  {
   "cell_type": "code",
   "execution_count": null,
   "id": "c2eb65b1",
   "metadata": {},
   "outputs": [],
   "source": [
    "adf_check(y['Sales'])"
   ]
  },
  {
   "cell_type": "code",
   "execution_count": null,
   "id": "5eb2575e",
   "metadata": {},
   "outputs": [],
   "source": [
    "# Our data is stationary\n",
    "# Trend d = 0"
   ]
  },
  {
   "cell_type": "code",
   "execution_count": null,
   "id": "53fdcd1c",
   "metadata": {},
   "outputs": [],
   "source": [
    "# Calculating the D value for seasonality\n",
    "y['seasonality'] = y['Sales'] - y['Sales'].shift(12)"
   ]
  },
  {
   "cell_type": "code",
   "execution_count": null,
   "id": "50b8c53c",
   "metadata": {},
   "outputs": [],
   "source": [
    "y.head()"
   ]
  },
  {
   "cell_type": "code",
   "execution_count": null,
   "id": "2018b8f3",
   "metadata": {},
   "outputs": [],
   "source": [
    "adf_check(y['seasonality'].dropna())"
   ]
  },
  {
   "cell_type": "code",
   "execution_count": null,
   "id": "b7b600b2",
   "metadata": {},
   "outputs": [],
   "source": [
    "# D = 1"
   ]
  },
  {
   "cell_type": "code",
   "execution_count": null,
   "id": "f5dd78bd",
   "metadata": {},
   "outputs": [],
   "source": [
    "# To find the values of p&P and q&Q we will use graphs\n",
    "from statsmodels.graphics.tsaplots import plot_pacf , plot_acf"
   ]
  },
  {
   "cell_type": "code",
   "execution_count": null,
   "id": "4032541d",
   "metadata": {},
   "outputs": [],
   "source": [
    "plot_pacf(y['Sales'] , lags = 14)\n",
    "plt.show()"
   ]
  },
  {
   "cell_type": "code",
   "execution_count": null,
   "id": "2229fc7d",
   "metadata": {},
   "outputs": [],
   "source": [
    "# p = 0"
   ]
  },
  {
   "cell_type": "code",
   "execution_count": null,
   "id": "5167ee32",
   "metadata": {},
   "outputs": [],
   "source": [
    "plot_acf(y['Sales'].dropna(), lags = 14)\n",
    "plt.show()"
   ]
  },
  {
   "cell_type": "code",
   "execution_count": null,
   "id": "90d219b3",
   "metadata": {},
   "outputs": [],
   "source": [
    "# q = 0"
   ]
  },
  {
   "cell_type": "code",
   "execution_count": null,
   "id": "78946b7c",
   "metadata": {},
   "outputs": [],
   "source": [
    "plot_pacf(y['seasonality'].dropna(), lags = 14)\n",
    "plt.show()"
   ]
  },
  {
   "cell_type": "code",
   "execution_count": null,
   "id": "72372cef",
   "metadata": {},
   "outputs": [],
   "source": [
    "plot_acf(y['seasonality'].dropna(), lags = 14)\n",
    "plt.show()"
   ]
  },
  {
   "cell_type": "code",
   "execution_count": null,
   "id": "4d310bee",
   "metadata": {},
   "outputs": [],
   "source": [
    "# P = 0\n",
    "# Q = 0"
   ]
  },
  {
   "cell_type": "code",
   "execution_count": null,
   "id": "e5a40de4",
   "metadata": {},
   "outputs": [],
   "source": [
    "# Trend:\n",
    "# d = 0 \n",
    "# p = 0       \n",
    "# q = 0\n",
    "\n",
    "# Seasonality:\n",
    "# P = 0 \n",
    "# D = 1 \n",
    "# Q = 0 "
   ]
  },
  {
   "cell_type": "markdown",
   "id": "ca7d5e38",
   "metadata": {},
   "source": [
    "### Model Time Series Analysis and Forecasting"
   ]
  },
  {
   "cell_type": "code",
   "execution_count": null,
   "id": "78333e1c",
   "metadata": {},
   "outputs": [],
   "source": [
    "# Automation to find best pdq value and less AIC value for better value\n",
    "import itertools"
   ]
  },
  {
   "cell_type": "code",
   "execution_count": null,
   "id": "9a6d406a",
   "metadata": {},
   "outputs": [],
   "source": [
    "from statsmodels.tsa.arima_model import ARIMA\n",
    "import statsmodels.api as sm"
   ]
  },
  {
   "cell_type": "code",
   "execution_count": null,
   "id": "92eec7c1",
   "metadata": {},
   "outputs": [],
   "source": [
    "p = d = q = range(0, 2)\n",
    "pdq = list(itertools.product(p, d, q))\n",
    "seasonal_pdq = [(x[0], x[1], x[2], 12) for x in list(itertools.product(p, d, q))]\n",
    "print('Examples of parameter combinations for Seasonal ARIMA...')\n",
    "print('SARIMAX: {} x {}'.format(pdq[1], seasonal_pdq[1]))\n",
    "print('SARIMAX: {} x {}'.format(pdq[1], seasonal_pdq[2]))\n",
    "print('SARIMAX: {} x {}'.format(pdq[2], seasonal_pdq[3]))\n",
    "print('SARIMAX: {} x {}'.format(pdq[2], seasonal_pdq[4]))\n"
   ]
  },
  {
   "cell_type": "code",
   "execution_count": null,
   "id": "b3c9ed93",
   "metadata": {},
   "outputs": [],
   "source": [
    "for param in pdq:\n",
    "    for param_seasonal in seasonal_pdq:\n",
    "        try:\n",
    "            model = sm.tsa.statespace.SARIMAX(y['Sales'] , order = param ,\n",
    "                                 seasonal_order = param_seasonal ,\n",
    "                                  enforce_stationarity=False, enforce_invertibility=False ) \n",
    "            results = model.fit()\n",
    "            print('ARIMA{}x{} - AIC :{}'.format(param,param_seasonal,results.aic))\n",
    "        except :\n",
    "            continue"
   ]
  },
  {
   "cell_type": "code",
   "execution_count": null,
   "id": "6cce78c1",
   "metadata": {},
   "outputs": [],
   "source": [
    "# ARIMA(1, 1, 1)x(1, 1, 1, 12) - AIC :283.3661018696623"
   ]
  },
  {
   "cell_type": "code",
   "execution_count": null,
   "id": "99dc787b",
   "metadata": {},
   "outputs": [],
   "source": [
    "# Fiting the ARIMA model\n",
    "model = sm.tsa.statespace.SARIMAX(y['Sales'],\n",
    "                                order=(1, 1, 1),\n",
    "                                seasonal_order=(1, 1, 1, 12),\n",
    "                                enforce_stationarity=False,\n",
    "                                enforce_invertibility=False)\n",
    "results = model.fit()\n"
   ]
  },
  {
   "cell_type": "code",
   "execution_count": null,
   "id": "c87cb0b4",
   "metadata": {},
   "outputs": [],
   "source": [
    "print(results.summary())"
   ]
  },
  {
   "cell_type": "code",
   "execution_count": null,
   "id": "b571df64",
   "metadata": {},
   "outputs": [],
   "source": [
    "print(len(y))"
   ]
  },
  {
   "cell_type": "code",
   "execution_count": null,
   "id": "2614c92b",
   "metadata": {},
   "outputs": [],
   "source": [
    "# Predict with the training dataset\n",
    "\n",
    "y['forecast'] = results.predict(start = 37 , dynamic = True) \n"
   ]
  },
  {
   "cell_type": "code",
   "execution_count": null,
   "id": "c8bcc9ed",
   "metadata": {},
   "outputs": [],
   "source": [
    "y.head()"
   ]
  },
  {
   "cell_type": "code",
   "execution_count": null,
   "id": "4df5437c",
   "metadata": {},
   "outputs": [],
   "source": [
    "y.tail()"
   ]
  },
  {
   "cell_type": "code",
   "execution_count": null,
   "id": "1c72f38a",
   "metadata": {},
   "outputs": [],
   "source": [
    "y[['Sales','forecast']].plot()\n",
    "plt.show()"
   ]
  },
  {
   "cell_type": "code",
   "execution_count": null,
   "id": "e971d181",
   "metadata": {},
   "outputs": [],
   "source": [
    "# The line plot is showing the observed values compared to the rolling forecast predictions.\n",
    "# Overall, our forecasts align with the true values very well, showing an upward trend starts \n",
    "# from the beginning of the year and captured the seasonality toward the end of the year.\n"
   ]
  },
  {
   "cell_type": "code",
   "execution_count": null,
   "id": "55ca044e",
   "metadata": {},
   "outputs": [],
   "source": [
    "# Will generate some future dates to make prediction"
   ]
  },
  {
   "cell_type": "code",
   "execution_count": null,
   "id": "c5149860",
   "metadata": {},
   "outputs": [],
   "source": [
    "from pandas.tseries.offsets import DateOffset"
   ]
  },
  {
   "cell_type": "code",
   "execution_count": null,
   "id": "3bc1feec",
   "metadata": {},
   "outputs": [],
   "source": [
    "y.head()"
   ]
  },
  {
   "cell_type": "code",
   "execution_count": null,
   "id": "f0c3c9cd",
   "metadata": {},
   "outputs": [],
   "source": [
    "y.tail()"
   ]
  },
  {
   "cell_type": "code",
   "execution_count": null,
   "id": "5e7736c2",
   "metadata": {},
   "outputs": [],
   "source": [
    "future_dates = [y.index[-1] + DateOffset(months = x) for x in range(0,13)] "
   ]
  },
  {
   "cell_type": "code",
   "execution_count": null,
   "id": "921aee03",
   "metadata": {},
   "outputs": [],
   "source": [
    "future_dates"
   ]
  },
  {
   "cell_type": "code",
   "execution_count": null,
   "id": "675e8293",
   "metadata": {},
   "outputs": [],
   "source": [
    "future_dates_df = pd.DataFrame(index = future_dates[1:], columns =y.columns)"
   ]
  },
  {
   "cell_type": "code",
   "execution_count": null,
   "id": "4ab61173",
   "metadata": {},
   "outputs": [],
   "source": [
    "future_dates_df.head()"
   ]
  },
  {
   "cell_type": "code",
   "execution_count": null,
   "id": "4028e794",
   "metadata": {},
   "outputs": [],
   "source": [
    "future_dates_df.tail()"
   ]
  },
  {
   "cell_type": "code",
   "execution_count": null,
   "id": "248b3de3",
   "metadata": {},
   "outputs": [],
   "source": [
    "future_df = pd.concat([y,future_dates_df])"
   ]
  },
  {
   "cell_type": "code",
   "execution_count": null,
   "id": "88d5c49b",
   "metadata": {},
   "outputs": [],
   "source": [
    "future_df.head(20)"
   ]
  },
  {
   "cell_type": "code",
   "execution_count": null,
   "id": "da613112",
   "metadata": {},
   "outputs": [],
   "source": [
    "future_df.tail(20)"
   ]
  },
  {
   "cell_type": "code",
   "execution_count": null,
   "id": "d010bce2",
   "metadata": {},
   "outputs": [],
   "source": [
    "future_df.shape"
   ]
  },
  {
   "cell_type": "code",
   "execution_count": null,
   "id": "c2328545",
   "metadata": {},
   "outputs": [],
   "source": [
    "future_df['forecast'] = results.predict( start = 47, end = 59, dynamic = True)"
   ]
  },
  {
   "cell_type": "code",
   "execution_count": null,
   "id": "ba93f95c",
   "metadata": {},
   "outputs": [],
   "source": [
    "future_df[['Sales','forecast']].plot()"
   ]
  },
  {
   "cell_type": "code",
   "execution_count": null,
   "id": "62679bbc",
   "metadata": {},
   "outputs": [],
   "source": [
    "future_df.tail(20)"
   ]
  },
  {
   "cell_type": "code",
   "execution_count": null,
   "id": "de68ffe4",
   "metadata": {},
   "outputs": [],
   "source": [
    "future_df.to_csv('sales_forecasting.csv')"
   ]
  },
  {
   "cell_type": "code",
   "execution_count": null,
   "id": "77f28e88",
   "metadata": {},
   "outputs": [],
   "source": []
  }
 ],
 "metadata": {
  "kernelspec": {
   "display_name": "Python 3 (ipykernel)",
   "language": "python",
   "name": "python3"
  },
  "language_info": {
   "codemirror_mode": {
    "name": "ipython",
    "version": 3
   },
   "file_extension": ".py",
   "mimetype": "text/x-python",
   "name": "python",
   "nbconvert_exporter": "python",
   "pygments_lexer": "ipython3",
   "version": "3.8.12"
  }
 },
 "nbformat": 4,
 "nbformat_minor": 5
}
